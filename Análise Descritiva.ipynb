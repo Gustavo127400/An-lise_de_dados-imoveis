{
 "cells": [
  {
   "cell_type": "markdown",
   "metadata": {
    "id": "R4jSdcDwdpld"
   },
   "source": [
    "# *Importação*"
   ]
  },
  {
   "cell_type": "code",
   "execution_count": 5,
   "metadata": {
    "id": "Bnk4U-3-d5nL"
   },
   "outputs": [],
   "source": [
    "import pandas as pd\n",
    "df = pd.read_excel('aluguel.xlsx')\n",
    "import locale\n",
    "from babel.numbers import format_currency\n"
   ]
  },
  {
   "cell_type": "markdown",
   "metadata": {},
   "source": [
    "# Análise descritiva | Imóveis"
   ]
  },
  {
   "cell_type": "markdown",
   "metadata": {
    "id": "Del2kbdT1aEC"
   },
   "source": [
    "# GS - Imóveis | Quitinetes"
   ]
  },
  {
   "cell_type": "code",
   "execution_count": 107,
   "metadata": {
    "colab": {
     "base_uri": "https://localhost:8080/",
     "height": 460
    },
    "id": "WDM-bJeowC6s",
    "outputId": "7c58e963-bff3-405d-a2aa-408babc3986a"
   },
   "outputs": [
    {
     "name": "stdout",
     "output_type": "stream",
     "text": [
      "Segundo o nosso DataFrame, temos 836 quitinetes.\n",
      "\n",
      "--------------------------- VALORES MÉDIOS -------------------------------\n",
      "\n",
      "O valor médio do condomínio das quitinetes é: R$ 427,34\n",
      "O valor médio das quitinetes é: R$ 1.246,84\n",
      "O valor médio da área é: 28.95 m²\n",
      "\n",
      "--------------------------- VALORES MEDIANOS ----------------------------\n",
      "\n",
      "O valor mediano do condomínio das quitinetes é: R$ 420,00\n",
      "O valor mediano das quitinetes é: R$ 1.150,00\n",
      "O valor mediano da área é: 28.00 m²\n",
      "\n",
      "--------------------------- VALORES MODA -------------------------------\n",
      "\n",
      "O valor moda do condomínio das quitinetes é: R$ 400,00\n",
      "O valor moda das quitinetes é: R$ 1.000,00\n",
      "O valor moda da área é: 30.00 m²\n",
      "\n"
     ]
    }
   ],
   "source": [
    "# Filtramos no dataset o tipo \"Quitinetes\"\n",
    "quitinetes = df[df['Tipo'] == 'Quitinete']\n",
    "# Quantidade de Quitinetes\n",
    "qtd_quitinetes = len(quitinetes)\n",
    "\n",
    "# ------------------------------- VALORES MÉDIOS --------------------------------\n",
    "\n",
    "# Calcular valores médios\n",
    "quitinetes_vmedio = quitinetes['Valor'].mean() # R$ 1246.84\n",
    "area_media = quitinetes['Area'].mean() # 29m²\n",
    "condominio_media = quitinetes['Condominio'].mean() # R$ 427.34\n",
    "\n",
    "# Formatação dos valores médios\n",
    "valor_formatado = format_currency(quitinetes_vmedio, 'BRL', locale='pt_BR')\n",
    "condominio_formatado = format_currency(condominio_media, 'BRL', locale='pt_BR')\n",
    "\n",
    "# ------------------------------- VALORES MEDIANOS ----------------------------\n",
    "\n",
    "# Calcular valores medianos\n",
    "quitinetes_mediana = quitinetes['Valor'].median() # R$ 1150\n",
    "area_mediana = quitinetes['Area'].median() # 28m²\n",
    "condominio_mediana = quitinetes['Condominio'].median() # R$ 420\n",
    "\n",
    "# Formatação dos valores medianos\n",
    "valor_mediana_formatado = format_currency(quitinetes_mediana, 'BRL', locale='pt_BR')\n",
    "condominio_mediana_formatado = format_currency(condominio_mediana, 'BRL', locale='pt_BR')\n",
    "\n",
    "# ------------------------------- VALORES MODA -------------------------------\n",
    "\n",
    "# Calcular valores moda\n",
    "quitinetes_moda = quitinetes['Valor'].mode().iloc[0] # R$ 1000\n",
    "area_moda = quitinetes['Area'].mode().iloc[0] # 30m²\n",
    "condominio_moda = quitinetes['Condominio'].mode().iloc[0] # R$ 400\n",
    "\n",
    "# Formatação dos valores moda\n",
    "valor_moda_formatado = format_currency(quitinetes_moda, 'BRL', locale='pt_BR')\n",
    "condominio_moda_formatado = format_currency(condominio_moda, 'BRL', locale='pt_BR')\n",
    "\n",
    "# Impressão dos resultados\n",
    "print(f'Segundo o nosso DataFrame, temos {qtd_quitinetes} quitinetes.\\n')\n",
    "\n",
    "print('--------------------------- VALORES MÉDIOS -------------------------------\\n')\n",
    "print(f'O valor médio do condomínio das quitinetes é: {condominio_formatado}')\n",
    "print(f'O valor médio das quitinetes é: {valor_formatado}')\n",
    "print(f'O valor médio da área é: {area_media:.2f} m²\\n')\n",
    "\n",
    "print('--------------------------- VALORES MEDIANOS ----------------------------\\n')\n",
    "print(f'O valor mediano do condomínio das quitinetes é: {condominio_mediana_formatado}')\n",
    "print(f'O valor mediano das quitinetes é: {valor_mediana_formatado}')\n",
    "print(f'O valor mediano da área é: {area_mediana:.2f} m²\\n')\n",
    "\n",
    "print('--------------------------- VALORES MODA -------------------------------\\n')\n",
    "print(f'O valor moda do condomínio das quitinetes é: {condominio_moda_formatado}')\n",
    "print(f'O valor moda das quitinetes é: {valor_moda_formatado}')\n",
    "print(f'O valor moda da área é: {area_moda:.2f} m²\\n')\n",
    "\n"
   ]
  },
  {
   "cell_type": "markdown",
   "metadata": {},
   "source": [
    "# GS - Imóveis | Casas "
   ]
  },
  {
   "cell_type": "code",
   "execution_count": 152,
   "metadata": {
    "colab": {
     "base_uri": "https://localhost:8080/"
    },
    "id": "QMTsSaRGyiKF",
    "outputId": "a1b52447-49c9-4e70-ce1e-85e7eaca08f2"
   },
   "outputs": [
    {
     "name": "stdout",
     "output_type": "stream",
     "text": [
      "Segundo o nosso DataFrame, temos 967 casas.\n",
      "\n",
      "--------------------------- VALORES MÉDIOS -------------------------------\n",
      "\n",
      "O valor médio do condomínio das casas é: R$ 931,28\n",
      "O valor médio das casas é: R$ 6.793,45\n",
      "O valor médio da área é: 250.58 m²\n",
      "\n",
      "--------------------------- VALORES MEDIANOS ----------------------------\n",
      "\n",
      "O valor mediano do condomínio das casas é: R$ 816,50\n",
      "O valor mediano das casas é: R$ 2.200,00\n",
      "O valor mediano da área é: 120.00 m²\n",
      "\n",
      "--------------------------- VALORES MODA -------------------------------\n",
      "\n",
      "O valor moda do condomínio das casas é: R$ 100,00\n",
      "O valor moda das casas é: R$ 1.000,00\n",
      "O valor moda da área é: 60.00 m²\n",
      "\n"
     ]
    }
   ],
   "source": [
    "\n",
    "# Filtramos no dataset o tipo \"Casa\"\n",
    "casas = df[df['Tipo'] == 'Casa']\n",
    "# Quantidade de Casas\n",
    "qtd_casas = len(casas)\n",
    "\n",
    "# ------------------------------- VALORES MÉDIOS --------------------------------\n",
    "\n",
    "# Calcular valores médios\n",
    "casas_vmedio = casas['Valor'].mean() # Valor médio\n",
    "area_media = casas['Area'].mean() # Área média em m²\n",
    "condominio_media = casas['Condominio'].mean() # Valor médio do condomínio\n",
    "\n",
    "# Formatação dos valores médios\n",
    "valor_formatado = format_currency(casas_vmedio, 'BRL', locale='pt_BR')\n",
    "condominio_formatado = format_currency(condominio_media, 'BRL', locale='pt_BR')\n",
    "\n",
    "# ------------------------------- VALORES MEDIANOS ----------------------------\n",
    "\n",
    "# Calcular valores medianos\n",
    "casas_mediana = casas['Valor'].median() # Valor mediano\n",
    "area_mediana = casas['Area'].median() # Área mediana em m²\n",
    "condominio_mediana = casas['Condominio'].median() # Valor mediano do condomínio\n",
    "\n",
    "# Formatação dos valores medianos\n",
    "valor_mediana_formatado = format_currency(casas_mediana, 'BRL', locale='pt_BR')\n",
    "condominio_mediana_formatado = format_currency(condominio_mediana, 'BRL', locale='pt_BR')\n",
    "\n",
    "# ------------------------------- VALORES MODA -------------------------------\n",
    "\n",
    "# Calcular valores moda\n",
    "casas_moda = casas['Valor'].mode().iloc[0] # Valor moda\n",
    "area_moda = casas['Area'].mode().iloc[0] # Área moda em m²\n",
    "condominio_moda = casas['Condominio'].mode().iloc[0] # Valor moda do condomínio\n",
    "\n",
    "# Formatação dos valores moda\n",
    "valor_moda_formatado = format_currency(casas_moda, 'BRL', locale='pt_BR')\n",
    "condominio_moda_formatado = format_currency(condominio_moda, 'BRL', locale='pt_BR')\n",
    "\n",
    "# Impressão dos resultados\n",
    "print(f'Segundo o nosso DataFrame, temos {qtd_casas} casas.\\n')\n",
    "\n",
    "print('--------------------------- VALORES MÉDIOS -------------------------------\\n')\n",
    "print(f'O valor médio do condomínio das casas é: {condominio_formatado}')\n",
    "print(f'O valor médio das casas é: {valor_formatado}')\n",
    "print(f'O valor médio da área é: {area_media:.2f} m²\\n')\n",
    "\n",
    "print('--------------------------- VALORES MEDIANOS ----------------------------\\n')\n",
    "print(f'O valor mediano do condomínio das casas é: {condominio_mediana_formatado}')\n",
    "print(f'O valor mediano das casas é: {valor_mediana_formatado}')\n",
    "print(f'O valor mediano da área é: {area_mediana:.2f} m²\\n')\n",
    "\n",
    "print('--------------------------- VALORES MODA -------------------------------\\n')\n",
    "print(f'O valor moda do condomínio das casas é: {condominio_moda_formatado}')\n",
    "print(f'O valor moda das casas é: {valor_moda_formatado}')\n",
    "print(f'O valor moda da área é: {area_moda:.2f} m²\\n')\n"
   ]
  },
  {
   "cell_type": "markdown",
   "metadata": {},
   "source": [
    "# GS Imóveis | Conjunto Comercial/Sala \n",
    "\n"
   ]
  },
  {
   "cell_type": "code",
   "execution_count": 163,
   "metadata": {
    "id": "RiBBGANAPq1G"
   },
   "outputs": [
    {
     "name": "stdout",
     "output_type": "stream",
     "text": [
      "Segundo o nosso DataFrame, temos 6815 conjuntos comerciais/salas.\n",
      "\n",
      "--------------------------- VALORES MÉDIOS -------------------------------\n",
      "\n",
      "O valor médio do condomínio dos conjuntos comerciais/salas é: R$ 4.512,22\n",
      "O valor médio dos conjuntos comerciais/salas é: R$ 14.715,05\n",
      "O valor médio da área é: 214.47 m²\n",
      "\n",
      "--------------------------- VALORES MEDIANOS ----------------------------\n",
      "\n",
      "O valor mediano do condomínio dos conjuntos comerciais/salas é: R$ 1.106,50\n",
      "O valor mediano dos conjuntos comerciais/salas é: R$ 2.000,00\n",
      "O valor mediano da área é: 54.00 m²\n",
      "\n",
      "--------------------------- VALORES MODA -------------------------------\n",
      "\n",
      "O valor moda do condomínio dos conjuntos comerciais/salas é: R$ 600,00\n",
      "O valor moda dos conjuntos comerciais/salas é: R$ 1.000,00\n",
      "O valor moda da área é: 30.00 m²\n",
      "\n"
     ]
    }
   ],
   "source": [
    "\n",
    "# Filtramos no dataset o tipo \"Conjunto Comercial/Sala\"\n",
    "conjunto_comercial = df[df['Tipo'] == 'Conjunto Comercial/Sala']\n",
    "# Quantidade de Conjuntos Comerciais/Salas\n",
    "qtd_conjunto_comercial = len(conjunto_comercial)\n",
    "\n",
    "# ------------------------------- VALORES MÉDIOS --------------------------------\n",
    "\n",
    "# Calcular valores médios\n",
    "conjunto_comercial_vmedio = conjunto_comercial['Valor'].mean() # Valor médio\n",
    "area_media = conjunto_comercial['Area'].mean() # Área média em m²\n",
    "condominio_media = conjunto_comercial['Condominio'].mean() # Valor médio do condomínio\n",
    "\n",
    "# Formatação dos valores médios\n",
    "valor_formatado = format_currency(conjunto_comercial_vmedio, 'BRL', locale='pt_BR')\n",
    "condominio_formatado = format_currency(condominio_media, 'BRL', locale='pt_BR')\n",
    "\n",
    "# ------------------------------- VALORES MEDIANOS ----------------------------\n",
    "\n",
    "# Calcular valores medianos\n",
    "conjunto_comercial_mediana = conjunto_comercial['Valor'].median() # Valor mediano\n",
    "area_mediana = conjunto_comercial['Area'].median() # Área mediana em m²\n",
    "condominio_mediana = conjunto_comercial['Condominio'].median() # Valor mediano do condomínio\n",
    "\n",
    "# Formatação dos valores medianos\n",
    "valor_mediana_formatado = format_currency(conjunto_comercial_mediana, 'BRL', locale='pt_BR')\n",
    "condominio_mediana_formatado = format_currency(condominio_mediana, 'BRL', locale='pt_BR')\n",
    "\n",
    "# ------------------------------- VALORES MODA -------------------------------\n",
    "\n",
    "# Calcular valores moda\n",
    "conjunto_comercial_moda = conjunto_comercial['Valor'].mode().iloc[0] # Valor moda\n",
    "area_moda = conjunto_comercial['Area'].mode().iloc[0] # Área moda em m²\n",
    "condominio_moda = conjunto_comercial['Condominio'].mode().iloc[0] # Valor moda do condomínio\n",
    "\n",
    "# Formatação dos valores moda\n",
    "valor_moda_formatado = format_currency(conjunto_comercial_moda, 'BRL', locale='pt_BR')\n",
    "condominio_moda_formatado = format_currency(condominio_moda, 'BRL', locale='pt_BR')\n",
    "\n",
    "# Impressão dos resultados\n",
    "print(f'Segundo o nosso DataFrame, temos {qtd_conjunto_comercial} conjuntos comerciais/salas.\\n')\n",
    "\n",
    "print('--------------------------- VALORES MÉDIOS -------------------------------\\n')\n",
    "print(f'O valor médio do condomínio dos conjuntos comerciais/salas é: {condominio_formatado}')\n",
    "print(f'O valor médio dos conjuntos comerciais/salas é: {valor_formatado}')\n",
    "print(f'O valor médio da área é: {area_media:.2f} m²\\n')\n",
    "\n",
    "print('--------------------------- VALORES MEDIANOS ----------------------------\\n')\n",
    "print(f'O valor mediano do condomínio dos conjuntos comerciais/salas é: {condominio_mediana_formatado}')\n",
    "print(f'O valor mediano dos conjuntos comerciais/salas é: {valor_mediana_formatado}')\n",
    "print(f'O valor mediano da área é: {area_mediana:.2f} m²\\n')\n",
    "\n",
    "print('--------------------------- VALORES MODA -------------------------------\\n')\n",
    "print(f'O valor moda do condomínio dos conjuntos comerciais/salas é: {condominio_moda_formatado}')\n",
    "print(f'O valor moda dos conjuntos comerciais/salas é: {valor_moda_formatado}')\n",
    "print(f'O valor moda da área é: {area_moda:.2f} m²\\n')\n"
   ]
  },
  {
   "cell_type": "markdown",
   "metadata": {},
   "source": [
    "# GS Imóveis | Apartamento"
   ]
  },
  {
   "cell_type": "code",
   "execution_count": 167,
   "metadata": {},
   "outputs": [
    {
     "name": "stdout",
     "output_type": "stream",
     "text": [
      "Segundo o nosso DataFrame, temos 19532 apartamentos.\n",
      "\n",
      "--------------------------- VALORES MÉDIOS -------------------------------\n",
      "\n",
      "O valor médio do condomínio dos apartamentos é: R$ 1.722,65\n",
      "O aluguel médio dos apartamentos é: R$ 4.744,61\n",
      "O valor médio da área é: 119.79 m²\n",
      "\n",
      "--------------------------- VALORES MEDIANOS ----------------------------\n",
      "\n",
      "O valor mediano do condomínio dos apartamentos é: R$ 976,00\n",
      "O aluguel mediano dos apartamentos é: R$ 2.700,00\n",
      "O valor mediano da área é: 90.00 m²\n",
      "\n",
      "--------------------------- VALORES MODA -------------------------------\n",
      "\n",
      "O valor moda do condomínio dos apartamentos é: R$ 1.200,00\n",
      "O aluguel moda dos apartamentos é: R$ 2.500,00\n",
      "O valor moda da área é: 70.00 m²\n",
      "\n"
     ]
    }
   ],
   "source": [
    "# Filtramos no dataset o tipo \"Apartamento\"\n",
    "apartamento = df[df['Tipo'] == 'Apartamento']\n",
    "# Quantidade de Apartamentos\n",
    "qtd_apartamento = len(apartamento)\n",
    "\n",
    "# ------------------------------- VALORES MÉDIOS --------------------------------\n",
    "\n",
    "# Calcular valores médios\n",
    "apartamento_vmedio = apartamento['Valor'].mean() # Valor médio\n",
    "area_media = apartamento['Area'].mean() # Área média em m²\n",
    "condominio_media = apartamento['Condominio'].mean() # Valor médio do condomínio\n",
    "\n",
    "# Formatação dos valores médios\n",
    "valor_formatado = format_currency(apartamento_vmedio, 'BRL', locale='pt_BR')\n",
    "condominio_formatado = format_currency(condominio_media, 'BRL', locale='pt_BR')\n",
    "\n",
    "# ------------------------------- VALORES MEDIANOS ----------------------------\n",
    "\n",
    "# Calcular valores medianos\n",
    "apartamento_mediana = apartamento['Valor'].median() # Valor mediano\n",
    "area_mediana = apartamento['Area'].median() # Área mediana em m²\n",
    "condominio_mediana = apartamento['Condominio'].median() # Valor mediano do condomínio\n",
    "\n",
    "# Formatação dos valores medianos\n",
    "valor_mediana_formatado = format_currency(apartamento_mediana, 'BRL', locale='pt_BR')\n",
    "condominio_mediana_formatado = format_currency(condominio_mediana, 'BRL', locale='pt_BR')\n",
    "\n",
    "# ------------------------------- VALORES MODA -------------------------------\n",
    "\n",
    "# Calcular valores moda\n",
    "aluguel_moda = apartamento['Valor'].mode().iloc[0] # Valor moda\n",
    "area_moda = apartamento['Area'].mode().iloc[0] # Área moda em m²\n",
    "condominio_moda = apartamento['Condominio'].mode().iloc[0] # Valor moda do condomínio\n",
    "\n",
    "# Formatação dos valores moda\n",
    "valor_moda_formatado = format_currency(apartamento_moda, 'BRL', locale='pt_BR')\n",
    "condominio_moda_formatado = format_currency(condominio_moda, 'BRL', locale='pt_BR')\n",
    "\n",
    "# Impressão dos resultados\n",
    "print(f'Segundo o nosso DataFrame, temos {qtd_apartamento} apartamentos.\\n')\n",
    "\n",
    "print('--------------------------- VALORES MÉDIOS -------------------------------\\n')\n",
    "print(f'O valor médio do condomínio dos apartamentos é: {condominio_formatado}')\n",
    "print(f'O aluguel médio dos apartamentos é: {valor_formatado}')\n",
    "print(f'O valor médio da área é: {area_media:.2f} m²\\n')\n",
    "\n",
    "print('--------------------------- VALORES MEDIANOS ----------------------------\\n')\n",
    "print(f'O valor mediano do condomínio dos apartamentos é: {condominio_mediana_formatado}')\n",
    "print(f'O aluguel mediano dos apartamentos é: {valor_mediana_formatado}')\n",
    "print(f'O valor mediano da área é: {area_mediana:.2f} m²\\n')\n",
    "\n",
    "print('--------------------------- VALORES MODA -------------------------------\\n')\n",
    "print(f'O valor moda do condomínio dos apartamentos é: {condominio_moda_formatado}')\n",
    "print(f'O aluguel moda dos apartamentos é: {valor_moda_formatado}')\n",
    "print(f'O valor moda da área é: {area_moda:.2f} m²\\n')\n"
   ]
  },
  {
   "cell_type": "markdown",
   "metadata": {},
   "source": [
    "GS Imóveis | Casa de Condomínio\r\n"
   ]
  },
  {
   "cell_type": "code",
   "execution_count": 170,
   "metadata": {},
   "outputs": [
    {
     "name": "stdout",
     "output_type": "stream",
     "text": [
      "Segundo o nosso DataFrame, temos 996 casas de condomínio.\n",
      "\n",
      "--------------------------- VALORES MÉDIOS -------------------------------\n",
      "\n",
      "O valor médio do condomínio das casas de condomínio é: R$ 1.342,03\n",
      "O valor médio das casas de condomínio é: R$ 11.952,06\n",
      "O valor médio da área é: 456.16 m²\n",
      "\n",
      "--------------------------- VALORES MEDIANOS ----------------------------\n",
      "\n",
      "O valor mediano do condomínio das casas de condomínio é: R$ 1.100,00\n",
      "O valor mediano das casas de condomínio é: R$ 8.500,00\n",
      "O valor mediano da área é: 380.00 m²\n",
      "\n",
      "--------------------------- VALORES MODA -------------------------------\n",
      "\n",
      "O valor moda do condomínio das casas de condomínio é: R$ 900,00\n",
      "O valor moda das casas de condomínio é: R$ 10.000,00\n",
      "O valor moda da área é: 600.00 m²\n",
      "\n"
     ]
    }
   ],
   "source": [
    "# Filtramos no dataset o tipo \"Casa de Condomínio\"\n",
    "casa_condominio = df[df['Tipo'] == 'Casa de Condomínio']\n",
    "# Quantidade de Casas de Condomínio\n",
    "qtd_casa_condominio = len(casa_condominio)\n",
    "\n",
    "# ------------------------------- VALORES MÉDIOS --------------------------------\n",
    "\n",
    "# Calcular valores médios\n",
    "casa_condominio_vmedio = casa_condominio['Valor'].mean() # Valor médio\n",
    "area_media = casa_condominio['Area'].mean() # Área média em m²\n",
    "condominio_media = casa_condominio['Condominio'].mean() # Valor médio do condomínio\n",
    "\n",
    "# Formatação dos valores médios\n",
    "valor_formatado = format_currency(casa_condominio_vmedio, 'BRL', locale='pt_BR')\n",
    "condominio_formatado = format_currency(condominio_media, 'BRL', locale='pt_BR')\n",
    "\n",
    "# ------------------------------- VALORES MEDIANOS ----------------------------\n",
    "\n",
    "# Calcular valores medianos\n",
    "casa_condominio_mediana = casa_condominio['Valor'].median() # Valor mediano\n",
    "area_mediana = casa_condominio['Area'].median() # Área mediana em m²\n",
    "condominio_mediana = casa_condominio['Condominio'].median() # Valor mediano do condomínio\n",
    "\n",
    "# Formatação dos valores medianos\n",
    "valor_mediana_formatado = format_currency(casa_condominio_mediana, 'BRL', locale='pt_BR')\n",
    "condominio_mediana_formatado = format_currency(condominio_mediana, 'BRL', locale='pt_BR')\n",
    "\n",
    "# ------------------------------- VALORES MODA -------------------------------\n",
    "\n",
    "# Calcular valores moda\n",
    "casa_condominio_moda = casa_condominio['Valor'].mode().iloc[0] # Valor moda\n",
    "area_moda = casa_condominio['Area'].mode().iloc[0] # Área moda em m²\n",
    "condominio_moda = casa_condominio['Condominio'].mode().iloc[0] # Valor moda do condomínio\n",
    "\n",
    "# Formatação dos valores moda\n",
    "valor_moda_formatado = format_currency(casa_condominio_moda, 'BRL', locale='pt_BR')\n",
    "condominio_moda_formatado = format_currency(condominio_moda, 'BRL', locale='pt_BR')\n",
    "\n",
    "# Impressão dos resultados\n",
    "print(f'Segundo o nosso DataFrame, temos {qtd_casa_condominio} casas de condomínio.\\n')\n",
    "\n",
    "print('--------------------------- VALORES MÉDIOS -------------------------------\\n')\n",
    "print(f'O valor médio do condomínio das casas de condomínio é: {condominio_formatado}')\n",
    "print(f'O valor médio das casas de condomínio é: {valor_formatado}')\n",
    "print(f'O valor médio da área é: {area_media:.2f} m²\\n')\n",
    "\n",
    "print('--------------------------- VALORES MEDIANOS ----------------------------\\n')\n",
    "print(f'O valor mediano do condomínio das casas de condomínio é: {condominio_mediana_formatado}')\n",
    "print(f'O valor mediano das casas de condomínio é: {valor_mediana_formatado}')\n",
    "print(f'O valor mediano da área é: {area_mediana:.2f} m²\\n')\n",
    "\n",
    "print('--------------------------- VALORES MODA -------------------------------\\n')\n",
    "print(f'O valor moda do condomínio das casas de condomínio é: {condominio_moda_formatado}')\n",
    "print(f'O valor moda das casas de condomínio é: {valor_moda_formatado}')\n",
    "print(f'O valor moda da área é: {area_moda:.2f} m²\\n')"
   ]
  },
  {
   "cell_type": "code",
   "execution_count": null,
   "metadata": {},
   "outputs": [],
   "source": []
  }
 ],
 "metadata": {
  "colab": {
   "provenance": [],
   "toc_visible": true
  },
  "kernelspec": {
   "display_name": "Python 3 (ipykernel)",
   "language": "python",
   "name": "python3"
  },
  "language_info": {
   "codemirror_mode": {
    "name": "ipython",
    "version": 3
   },
   "file_extension": ".py",
   "mimetype": "text/x-python",
   "name": "python",
   "nbconvert_exporter": "python",
   "pygments_lexer": "ipython3",
   "version": "3.11.7"
  }
 },
 "nbformat": 4,
 "nbformat_minor": 4
}
